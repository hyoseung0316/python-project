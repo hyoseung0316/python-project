{
 "cells": [
  {
   "cell_type": "raw",
   "id": "daf3f2b0-a7e6-476a-8d4b-c185c2c16c99",
   "metadata": {},
   "source": [
    "quiz 01>\n",
    "주민등록번호 14자리를 입력받아서 성별을 체크합니다.\n",
    "프로그램 종료는 (q,Q)를 누를때까지 반복처리합니다.\n",
    "\n",
    "입력 예: 123456-1234567\n",
    "조건처리: - 길이 값 체크\n",
    "         - 성별 체크 (가능 값:1,2,3,4)\n",
    "출력: 여성입니다 or 남성입니다"
   ]
  },
  {
   "cell_type": "code",
   "execution_count": 3,
   "id": "2dc88913-d5f1-4f57-9bc9-0e7533a5a455",
   "metadata": {},
   "outputs": [
    {
     "ename": "SyntaxError",
     "evalue": "invalid syntax (Temp/ipykernel_10620/2075787710.py, line 2)",
     "output_type": "error",
     "traceback": [
      "\u001b[1;36m  File \u001b[1;32m\"C:\\Users\\Admin\\AppData\\Local\\Temp/ipykernel_10620/2075787710.py\"\u001b[1;36m, line \u001b[1;32m2\u001b[0m\n\u001b[1;33m    if a[7] = 1 or 3:\u001b[0m\n\u001b[1;37m            ^\u001b[0m\n\u001b[1;31mSyntaxError\u001b[0m\u001b[1;31m:\u001b[0m invalid syntax\n"
     ]
    }
   ],
   "source": [
    "a = '******-*******'\n",
    "if a[7] = 1 or 3:\n",
    "    print(\"남성입니다\")\n",
    "else print(\"여성입니다\")"
   ]
  },
  {
   "cell_type": "raw",
   "id": "c4c1b375-453d-4543-91d5-e6f4c1199573",
   "metadata": {},
   "source": [
    "주민등록번호 입력(14자리, 종료:q,Q) >>> 12345678901234\n",
    "입력 문자의 길이가 안 맞거나, 성별값의 범위가 아닙니다.\n",
    "주민등록번호 입력(14자리, 종료:q,Q) >>> 123456-5123456\n",
    "입력 문자의 길이가 안 맞거나, 성별값의 범위가 아닙니다.\n",
    "주민등록번호 입력(14자리, 종료:q,Q) >>> 123456-4123456\n",
    "여성입니다.\n",
    "주민등록번호 입력(14자리, 종료:q,Q) >>> q\n",
    "프로그램 종료"
   ]
  },
  {
   "cell_type": "code",
   "execution_count": null,
   "id": "d44c86aa-ce11-43d6-b488-425ec48f3d6d",
   "metadata": {},
   "outputs": [],
   "source": [
    "while True:\n",
    "    invalue = input('주민등록번호 입력(14자리,종료:q,Q) >>>')\n",
    "    if len(invalue) == 1 and invalue.lower() == 'q':\n",
    "        print('프로그램 종료')\n",
    "        break\n",
    "    elif len(invalue) == 14 and invalue[6] == '-' and invalue[7] in ['1','2','3','4']:\n",
    "        if invalue[7] in ['1','3']:\n",
    "            print('남성입니다.')\n",
    "        else:\n",
    "            print('여성입니다.')\n",
    "    else:\n",
    "        print('입력 문자의 길이가 안 맞거나, 성별값의 범위가 아닙니다.')"
   ]
  },
  {
   "cell_type": "raw",
   "id": "16b7b88c-8767-4df1-bac0-380d633961f4",
   "metadata": {},
   "source": [
    "quiz 02>\n",
    "로또 번호 추출기\n",
    "총 5세트의 번호를 추출합니다.\n",
    "한 세트당 번호는 6개입니다.\n",
    "번호는 1~45 사이의 번호만 가능합니다.\n",
    "번호는 중복되면 안됩니다.\n",
    "번호를 출력시, 오름차순으로 정렬해서 출력합니다."
   ]
  },
  {
   "cell_type": "code",
   "execution_count": 25,
   "id": "2a5cc69f-61d6-41db-bde2-81dede121030",
   "metadata": {},
   "outputs": [
    {
     "name": "stdout",
     "output_type": "stream",
     "text": [
      "[1, 6, 13, 26, 35, 39]\n",
      "[13, 17, 20, 24, 35, 44]\n",
      "[7, 16, 32, 37, 40, 42]\n",
      "[9, 25, 33, 37, 42, 43]\n",
      "[3, 7, 11, 19, 29, 42]\n"
     ]
    }
   ],
   "source": [
    "for i in range(5):\n",
    "    lotto = [0,0,0,0,0,0]\n",
    "    for x in range(6):\n",
    "        num = 0\n",
    "        while (num in lotto):\n",
    "            num = random.randint(1,45)\n",
    "        lotto[x]= num\n",
    "    lotto.sort()\n",
    "    print(lotto)"
   ]
  },
  {
   "cell_type": "code",
   "execution_count": 29,
   "id": "f5d60216-7134-4b33-9436-c1dfe52d7a0d",
   "metadata": {},
   "outputs": [
    {
     "name": "stdout",
     "output_type": "stream",
     "text": [
      "[9, 21, 29, 30, 37, 43]\n",
      "[2, 5, 12, 18, 24, 35]\n",
      "[2, 10, 14, 15, 17, 26]\n",
      "[3, 10, 15, 16, 32, 33]\n",
      "[4, 6, 11, 27, 30, 32]\n",
      "[3, 11, 17, 26, 28, 45]\n"
     ]
    }
   ],
   "source": [
    "for i in range(6):\n",
    "    lotto = random.sample(range(1,46),6)\n",
    "    lotto.sort()\n",
    "    print(lotto)"
   ]
  },
  {
   "cell_type": "raw",
   "id": "1f00b9d2-0956-4c21-82c2-39b4c3691cbd",
   "metadata": {},
   "source": [
    "quiz 03> 커피 메뉴 관리 프로그램\n",
    "데이터 저장은 딕셔너리로.. {'메뉴명':가격,'coffee':2000}\n",
    "프로그램에서 사용할 메뉴\n",
    "1. 메뉴입력 2. 메뉴수정 3. 메뉴목록 4. 메뉴삭제 5. 프로그램 종료\n",
    " - 메뉴입력 : 메뉴명과 가격을 입력받아서 저장\n",
    " - 메뉴수정 : 메뉴명을 확인하고 있는 메뉴에 가격을 입력받아 수정\n",
    " - 메뉴목록 : 저장된 메뉴명과 가격을 출력(천 단위 구분기호 표기), 메뉴명 순서대로 출력\n",
    " - 메뉴삭제 : 메뉴명을 확인하고 있는 메뉴에서 삭제\n",
    " - 프로그램 종료 : 프로그램을 종료하는 메시지를 출력하고 종료\n",
    " - 메뉴1~5까지만 입력받고 다른 값이 들어오면 관련 에러 메시지를 출력한다.\n",
    " - 가격은 숫자로 입력해야 됨"
   ]
  },
  {
   "cell_type": "code",
   "execution_count": 30,
   "id": "f7ae47b6-8eb6-48c5-a49b-a6b0c1fd0bfc",
   "metadata": {},
   "outputs": [],
   "source": [
    "# sorted()\n",
    "list1=[5,2,3,1,4]\n",
    "dict1={'아이스 아메리카노':2000,'아이스 카페라떼':2500,'아인슈페너':3500}"
   ]
  },
  {
   "cell_type": "code",
   "execution_count": 31,
   "id": "27111d6b-07cf-477d-82bb-7143e50558be",
   "metadata": {},
   "outputs": [
    {
     "data": {
      "text/plain": [
       "[1, 2, 3, 4, 5]"
      ]
     },
     "execution_count": 31,
     "metadata": {},
     "output_type": "execute_result"
    }
   ],
   "source": [
    "sorted(list1)"
   ]
  },
  {
   "cell_type": "code",
   "execution_count": 32,
   "id": "83fa7efb-3629-46e6-b039-5cde16883efb",
   "metadata": {},
   "outputs": [
    {
     "data": {
      "text/plain": [
       "[5, 2, 3, 1, 4]"
      ]
     },
     "execution_count": 32,
     "metadata": {},
     "output_type": "execute_result"
    }
   ],
   "source": [
    "list1"
   ]
  },
  {
   "cell_type": "code",
   "execution_count": 33,
   "id": "7e1b2871-db08-4b6c-be9f-89d98ceb9ae6",
   "metadata": {},
   "outputs": [
    {
     "data": {
      "text/plain": [
       "['아이스 아메리카노', '아이스 카페라떼', '아인슈페너']"
      ]
     },
     "execution_count": 33,
     "metadata": {},
     "output_type": "execute_result"
    }
   ],
   "source": [
    "sorted(dict1)"
   ]
  },
  {
   "cell_type": "code",
   "execution_count": 38,
   "id": "5ad1fd77-a8c3-4943-9a4d-2857cdaa7490",
   "metadata": {},
   "outputs": [
    {
     "data": {
      "text/plain": [
       "[('아이스 아메리카노', 2000), ('아이스 카페라떼', 2500), ('아인슈페너', 3500)]"
      ]
     },
     "execution_count": 38,
     "metadata": {},
     "output_type": "execute_result"
    }
   ],
   "source": [
    "sorted(dict1.items(),key=lambda data:data[1])"
   ]
  },
  {
   "cell_type": "code",
   "execution_count": 39,
   "id": "b844144a-327a-4728-af29-ad45c541f174",
   "metadata": {},
   "outputs": [],
   "source": [
    "student_tu = [('john','A',15),\n",
    "              ('jane','B',12),\n",
    "              ('dave','B',10)]"
   ]
  },
  {
   "cell_type": "code",
   "execution_count": 41,
   "id": "2f97405a-adfc-4a4e-9938-2eb23b59e516",
   "metadata": {},
   "outputs": [
    {
     "data": {
      "text/plain": [
       "[('dave', 'B', 10), ('jane', 'B', 12), ('john', 'A', 15)]"
      ]
     },
     "execution_count": 41,
     "metadata": {},
     "output_type": "execute_result"
    }
   ],
   "source": [
    "sorted(student_tu)"
   ]
  },
  {
   "cell_type": "code",
   "execution_count": 43,
   "id": "67c06d9e-6694-4b67-aec7-8fca0fdcf016",
   "metadata": {},
   "outputs": [
    {
     "data": {
      "text/plain": [
       "[('john', 'A', 15), ('jane', 'B', 12), ('dave', 'B', 10)]"
      ]
     },
     "execution_count": 43,
     "metadata": {},
     "output_type": "execute_result"
    }
   ],
   "source": [
    "sorted(student_tu,key=lambda x : x[2], reverse=True)"
   ]
  },
  {
   "cell_type": "code",
   "execution_count": 20,
   "id": "fe3c9651-af71-472e-ae1a-ab92a75b2cb9",
   "metadata": {
    "tags": []
   },
   "outputs": [
    {
     "name": "stdin",
     "output_type": "stream",
     "text": [
      "\n",
      "-------------------------------------------------------------------------\n",
      "1. 메뉴입력  2. 메뉴수정  3. 메뉴목록  4. 메뉴삭제  5. 프로그램 종료\n",
      "-------------------------------------------------------------------------\n",
      "메뉴선택 >>>  3\n"
     ]
    },
    {
     "name": "stdout",
     "output_type": "stream",
     "text": [
      "----- menu -----\n",
      "아인슈페너 : 3,500\n",
      "아이스 카페라떼 : 2,500\n",
      "아이스 아메리카노 : 2,000\n"
     ]
    },
    {
     "name": "stdin",
     "output_type": "stream",
     "text": [
      "\n",
      "-------------------------------------------------------------------------\n",
      "1. 메뉴입력  2. 메뉴수정  3. 메뉴목록  4. 메뉴삭제  5. 프로그램 종료\n",
      "-------------------------------------------------------------------------\n",
      "메뉴선택 >>>  5\n"
     ]
    },
    {
     "name": "stdout",
     "output_type": "stream",
     "text": [
      "프로그램을 종료합니다.\n"
     ]
    }
   ],
   "source": [
    "menu = {'아이스 아메리카노':2000, '아이스 카페라떼':2500, '아인슈페너':3500}\n",
    "while True:\n",
    "    choice = input('''\n",
    "-------------------------------------------------------------------------\n",
    "1. 메뉴입력  2. 메뉴수정  3. 메뉴목록  4. 메뉴삭제  5. 프로그램 종료\n",
    "-------------------------------------------------------------------------\n",
    "메뉴선택 >>> ''')\n",
    "    if choice == '1':\n",
    "        print('현재메뉴 :',list(menu.keys()))\n",
    "        name = input('추가할 메뉴명을 입력하세요 >>>')\n",
    "        price = 'a'\n",
    "        while not price.isdecimal():\n",
    "            price = input('추가할 메뉴의 가격을 입력하세요 >>>')\n",
    "        menu[name]= int(price)\n",
    "    elif choice == '2':\n",
    "        print('현재메뉴 :',list(menu.keys()))\n",
    "        name = ''\n",
    "        while not name in menu.keys():\n",
    "            name = input('수정할 메뉴명을 입력하세요 >>>')\n",
    "        price = 'a'\n",
    "        while not price.isdecimal():\n",
    "            price = input('수정할 메뉴의 가격을 입력하세요 >>>')\n",
    "        menu[name]=int(price)\n",
    "    elif choice == '3':\n",
    "        print('----- menu -----')\n",
    "        for item in sorted(menu.items(),key=lambda data:data[1],reverse=True):\n",
    "            print(f'{item[0]} : {item[1]:,}')\n",
    "    elif choice == '4':\n",
    "        print('현재메뉴 :',list(menu.keys()))\n",
    "        name = ''\n",
    "        while not name in menu.keys():\n",
    "            name = input('삭제할 메뉴명을 입력하세요 >>>')\n",
    "        del menu[name]\n",
    "    elif choice == '5':\n",
    "        print('프로그램을 종료합니다.')\n",
    "        break\n",
    "    else:\n",
    "        print('메뉴를 잘못 선택하셨습니다.')"
   ]
  },
  {
   "cell_type": "raw",
   "id": "7629d943-7936-49db-bff8-605399910105",
   "metadata": {},
   "source": [
    "quiz 04>\n",
    "quiz 03의 내용을 프로그램 시작시 읽어오고 프로그램 종료시에 저장"
   ]
  },
  {
   "cell_type": "code",
   "execution_count": 83,
   "id": "98ac5244-7a1c-4b0d-90c3-5145845e554f",
   "metadata": {},
   "outputs": [
    {
     "ename": "IndentationError",
     "evalue": "unexpected indent (Temp/ipykernel_6400/2111198045.py, line 16)",
     "output_type": "error",
     "traceback": [
      "\u001b[1;36m  File \u001b[1;32m\"C:\\Users\\Admin\\AppData\\Local\\Temp/ipykernel_6400/2111198045.py\"\u001b[1;36m, line \u001b[1;32m16\u001b[0m\n\u001b[1;33m    name = input('추가할 메뉴명을 입력하세요 >>>')\u001b[0m\n\u001b[1;37m    ^\u001b[0m\n\u001b[1;31mIndentationError\u001b[0m\u001b[1;31m:\u001b[0m unexpected indent\n"
     ]
    }
   ],
   "source": [
    "import json\n",
    "\n",
    "f = open('menu.json','r')\n",
    "menu = json.load(f)\n",
    "f.close()\n",
    "\n",
    "menu = {'아이스 아메리카노':2000, '아이스 카페라떼':2500, '아인슈페너':3500}\n",
    "while True:\n",
    "    choice = input('''\n",
    "-------------------------------------------------------------------------\n",
    "1. 메뉴입력  2. 메뉴수정  3. 메뉴목록  4. 메뉴삭제  5. 프로그램 종료\n",
    "-------------------------------------------------------------------------\n",
    "메뉴선택 >>> ''')\n",
    "    if choice == '1':\n",
    "        print('현재메뉴 :',list(menu.keys()))\n",
    "            name = input('추가할 메뉴명을 입력하세요 >>>')\n",
    "        price = 'a'\n",
    "        while not price.isdecimal():\n",
    "            price = input('추가할 메뉴의 가격을 입력하세요 >>>')\n",
    "        menu[name]=int(price)\n",
    "    elif choice == '2':\n",
    "        print('현재메뉴 :',list(menu.keys()))\n",
    "        name = ''\n",
    "        while not name in menu.keys():\n",
    "            name = input('수정할 메뉴명을 입력하세요 >>>')\n",
    "        price = 'a'\n",
    "        while not price.isdecimal():\n",
    "            price = input('수정할 메뉴의 가격을 입력하세요 >>>')\n",
    "        menu[name]=int(price)\n",
    "    elif choice == '3':\n",
    "        print('----- menu -----')\n",
    "        for item in sorted(menu.items(),key=lambda data:data[1],reverse=True):\n",
    "            print(f'{item[0]} : {item[1]:,}')\n",
    "    elif choice == '4':\n",
    "        print('현재메뉴 :',list(menu.keys()))\n",
    "        name = ''\n",
    "        while not name in menu.keys():\n",
    "            name = input('삭제할 메뉴명을 입력하세요 >>>')\n",
    "        del menu[name]\n",
    "    elif choice == '5':\n",
    "        print('프로그램을 종료합니다.')\n",
    "        f = open('menu.json','w')\n",
    "        json.dump(menu,f)\n",
    "        f.close()\n",
    "        break\n",
    "    else:\n",
    "        print('메뉴를 잘못 선택하셨습니다.')"
   ]
  },
  {
   "cell_type": "code",
   "execution_count": 21,
   "id": "25a30737-aa34-4c7f-83c2-04c337f95b1a",
   "metadata": {},
   "outputs": [],
   "source": [
    "file = open('hello txt','w')"
   ]
  },
  {
   "cell_type": "code",
   "execution_count": 22,
   "id": "8864dbce-6857-483c-9cde-340412903950",
   "metadata": {},
   "outputs": [
    {
     "data": {
      "text/plain": [
       "12"
      ]
     },
     "execution_count": 22,
     "metadata": {},
     "output_type": "execute_result"
    }
   ],
   "source": [
    "file.write('hello world!')"
   ]
  },
  {
   "cell_type": "code",
   "execution_count": 23,
   "id": "dd96d785-f916-417b-8283-14472e4dc7dd",
   "metadata": {},
   "outputs": [],
   "source": [
    "file.close()"
   ]
  },
  {
   "cell_type": "code",
   "execution_count": 34,
   "id": "90754303-e600-488a-a7ad-bd4a83dc4bf3",
   "metadata": {},
   "outputs": [],
   "source": [
    "file = open('hello txt','r')\n",
    "text = file.readlines()"
   ]
  },
  {
   "cell_type": "code",
   "execution_count": 35,
   "id": "e475506c-4aed-4c3c-946e-1461a95c840b",
   "metadata": {},
   "outputs": [
    {
     "data": {
      "text/plain": [
       "['hello world!\\n',\n",
       " 'hello world!\\n',\n",
       " 'hello world!\\n',\n",
       " 'hello world!\\n',\n",
       " 'hello world!']"
      ]
     },
     "execution_count": 35,
     "metadata": {},
     "output_type": "execute_result"
    }
   ],
   "source": [
    "text"
   ]
  },
  {
   "cell_type": "code",
   "execution_count": 36,
   "id": "88736ad8-a5d6-4b0a-94b5-bba98046786a",
   "metadata": {},
   "outputs": [],
   "source": [
    "file.close()"
   ]
  },
  {
   "cell_type": "code",
   "execution_count": 37,
   "id": "b28f3501-bcbb-4f67-a035-c04040e65b5e",
   "metadata": {},
   "outputs": [],
   "source": [
    "import pickle"
   ]
  },
  {
   "cell_type": "code",
   "execution_count": 38,
   "id": "c451d95c-2b9c-45fa-8863-df828c0f0295",
   "metadata": {},
   "outputs": [
    {
     "data": {
      "text/plain": [
       "{'아이스 아메리카노': 2000, '아이스 카페라떼': 2500, '아인슈페너': 3500}"
      ]
     },
     "execution_count": 38,
     "metadata": {},
     "output_type": "execute_result"
    }
   ],
   "source": [
    "menu"
   ]
  },
  {
   "cell_type": "code",
   "execution_count": 41,
   "id": "3dea6319-9a18-4758-afa5-b73fcb277075",
   "metadata": {},
   "outputs": [],
   "source": [
    "f = open('menu.pickle','wb')\n",
    "pickle.dump(menu,f)\n",
    "f.close()"
   ]
  },
  {
   "cell_type": "code",
   "execution_count": 43,
   "id": "45ea97e0-b059-4d30-9824-21e393b64264",
   "metadata": {},
   "outputs": [
    {
     "data": {
      "text/plain": [
       "dict"
      ]
     },
     "execution_count": 43,
     "metadata": {},
     "output_type": "execute_result"
    }
   ],
   "source": [
    "type(data)"
   ]
  },
  {
   "cell_type": "code",
   "execution_count": 44,
   "id": "2a1384c3-6158-4225-964d-107ad5c9940e",
   "metadata": {},
   "outputs": [
    {
     "data": {
      "text/plain": [
       "{'아이스 아메리카노': 2000, '아이스 카페라떼': 2500, '아인슈페너': 3500}"
      ]
     },
     "execution_count": 44,
     "metadata": {},
     "output_type": "execute_result"
    }
   ],
   "source": [
    "data"
   ]
  },
  {
   "cell_type": "code",
   "execution_count": 45,
   "id": "436a132c-295e-4fcd-aa15-7749f0b91f44",
   "metadata": {},
   "outputs": [],
   "source": [
    "import json"
   ]
  },
  {
   "cell_type": "code",
   "execution_count": 48,
   "id": "c891df26-5f20-428f-ba2a-3ae4a807da9c",
   "metadata": {},
   "outputs": [],
   "source": [
    "f = open('menu.json','w')\n",
    "json.dump(menu,f)\n",
    "f.close()"
   ]
  },
  {
   "cell_type": "code",
   "execution_count": 49,
   "id": "5594c578-7da3-4a81-90a8-63a11c4f0e00",
   "metadata": {},
   "outputs": [],
   "source": [
    "f = open('menu.json','r')\n",
    "data = json.load(f)\n",
    "f.close()"
   ]
  },
  {
   "cell_type": "code",
   "execution_count": 50,
   "id": "93bc9177-9fb2-4a96-87df-359c70180151",
   "metadata": {},
   "outputs": [
    {
     "data": {
      "text/plain": [
       "dict"
      ]
     },
     "execution_count": 50,
     "metadata": {},
     "output_type": "execute_result"
    }
   ],
   "source": [
    "type(data)"
   ]
  },
  {
   "cell_type": "code",
   "execution_count": 51,
   "id": "9d383d62-c112-498b-9541-0f04b71e3a0c",
   "metadata": {},
   "outputs": [
    {
     "data": {
      "text/plain": [
       "{'아이스 아메리카노': 2000, '아이스 카페라떼': 2500, '아인슈페너': 3500}"
      ]
     },
     "execution_count": 51,
     "metadata": {},
     "output_type": "execute_result"
    }
   ],
   "source": [
    "data"
   ]
  },
  {
   "cell_type": "raw",
   "id": "736a1cc4-0dff-44c1-a619-5971fe957a69",
   "metadata": {},
   "source": [
    "quiz 5>\n",
    "타자게임\n",
    "- 데이터는 word = [\"cat\", \"dog\", \"fox\", \"monkey\", \"mouse\", \"panda\", \"frog\", \"snake\", \"wolf\"]\n",
    "- 문제는 총 5문제가 나옵니다.\n",
    "- 나온 문제는 맞출 때 까지 계속 됩니다.\n",
    "- 문제를 맞추면 다음 문제가 나옵니다."
   ]
  },
  {
   "cell_type": "code",
   "execution_count": 3,
   "id": "ba8d2be1-8eaa-4976-909f-77f8f1736c1a",
   "metadata": {},
   "outputs": [
    {
     "name": "stdin",
     "output_type": "stream",
     "text": [
      "시작! \n"
     ]
    },
    {
     "name": "stdout",
     "output_type": "stream",
     "text": [
      "1번\n",
      "panda\n"
     ]
    },
    {
     "name": "stdin",
     "output_type": "stream",
     "text": [
      " panda\n"
     ]
    },
    {
     "name": "stdout",
     "output_type": "stream",
     "text": [
      "통과!\n",
      "2번\n",
      "frog\n"
     ]
    },
    {
     "name": "stdin",
     "output_type": "stream",
     "text": [
      " frog\n"
     ]
    },
    {
     "name": "stdout",
     "output_type": "stream",
     "text": [
      "통과!\n",
      "3번\n",
      "wolf\n"
     ]
    },
    {
     "name": "stdin",
     "output_type": "stream",
     "text": [
      " wolf\n"
     ]
    },
    {
     "name": "stdout",
     "output_type": "stream",
     "text": [
      "통과!\n",
      "4번\n",
      "monkey\n"
     ]
    },
    {
     "name": "stdin",
     "output_type": "stream",
     "text": [
      " monkey\n"
     ]
    },
    {
     "name": "stdout",
     "output_type": "stream",
     "text": [
      "통과!\n",
      "5번\n",
      "monkey\n"
     ]
    },
    {
     "name": "stdin",
     "output_type": "stream",
     "text": [
      " monkey\n"
     ]
    },
    {
     "name": "stdout",
     "output_type": "stream",
     "text": [
      "통과!\n",
      "5문제 다 맞췄습니다.\n",
      "걸린시간:8초\n"
     ]
    }
   ],
   "source": [
    "import random,time\n",
    "\n",
    "#word[random.randint(0,len(word)-1)]\n",
    "\n",
    "word = [\"cat\", \"dog\", \"fox\", \"monkey\", \"mouse\", \"panda\", \"frog\", \"snake\", \"wolf\"]\n",
    "n = 1\n",
    "quiz = random.choice(word)\n",
    "input('시작!')\n",
    "start = time.time()\n",
    "while n <= 5:\n",
    "    print(f'{n}번')\n",
    "    print(quiz)\n",
    "    x = input()\n",
    "    if quiz == x:\n",
    "        print('통과!')\n",
    "        n += 1\n",
    "        quiz = random.choice(word)\n",
    "    else:\n",
    "        print('오타! 다시 도전!')\n",
    "print('5문제 다 맞췄습니다.')\n",
    "end = time.time()\n",
    "print(f'걸린시간:{end-start:.0f}초')"
   ]
  },
  {
   "cell_type": "raw",
   "id": "64fb2702-857e-491f-89da-9119345cd6bb",
   "metadata": {},
   "source": [
    "quiz 6>\n",
    "앞에 타자 게임을 활용\n",
    "- 1. 문제추가 2. 타자게임 3. 등수 리스트 4. 종료하기\n",
    "- 문제추가 후 데이터는 파일 저장\n",
    "- 문제추가는 단어를 입력받아서 중복되지 않게 추가, 종료 전까지 계속 추가 작업 진행\n",
    "- 타자게임은 시간을 체크하고 걸린 시간을 사용자명과 함께 저장 (딕셔너리로 저장: 등수데이터)\n",
    "- 등수 리스트는 걸린 시간이 적은 순서대로 정렬해서 출력\n",
    "- 종료하기는 등수데이터를 저장하고 진행\n",
    "- 프로그램이 시작될때 문제와 등수 정보를 읽어오기"
   ]
  },
  {
   "cell_type": "code",
   "execution_count": 21,
   "id": "3c292ebd-de71-4b73-839b-e4d0adb0e9c7",
   "metadata": {},
   "outputs": [
    {
     "name": "stdin",
     "output_type": "stream",
     "text": [
      "\n",
      "1. 문제추가 2. 타자게임 3. 등수리스트 4. 종료하기\n",
      "메뉴선택 >>>  3\n"
     ]
    },
    {
     "name": "stdout",
     "output_type": "stream",
     "text": [
      "0등  0.00\n",
      "1등 2 0.00\n",
      "2등 4 0.00\n",
      "3등 4ㅂ 0.00\n",
      "4등 aa 0.00\n",
      "5등 sy 8.15\n",
      "6등 aaa 10.11\n"
     ]
    },
    {
     "name": "stdin",
     "output_type": "stream",
     "text": [
      "\n",
      "1. 문제추가 2. 타자게임 3. 등수리스트 4. 종료하기\n",
      "메뉴선택 >>>  4\n"
     ]
    },
    {
     "name": "stdout",
     "output_type": "stream",
     "text": [
      "프로그램을 종료합니다.\n"
     ]
    }
   ],
   "source": [
    "import random,time,json\n",
    "\n",
    "# word = [\"cat\", \"dog\", \"fox\", \"monkey\", \"mouse\", \"panda\", \"frog\", \"snake\", \"wolf\"]\n",
    "# rank = {'aaa':10.111}\n",
    "\n",
    "with open('word.json','r') as f:\n",
    "   word = json.load(f)\n",
    "with open('rank.json','r') as f:\n",
    "    rank = json.load(f)\n",
    "\n",
    "while True:\n",
    "    menu = input('''\n",
    "1. 문제추가 2. 타자게임 3. 등수리스트 4. 종료하기\n",
    "메뉴선택 >>> ''')\n",
    "    if menu == '1':\n",
    "        while True:\n",
    "            quiz = input('추가할 단어를 입력(종료:0) >>>')\n",
    "            while quiz in word:\n",
    "                quiz = input('중복된 단어입니다. 다시 입력하세요.(종료:0) >>>')\n",
    "            if quiz == '0':\n",
    "                break\n",
    "            word.append(quiz)\n",
    "            print(word)\n",
    "        with open('word.json','w') as f:\n",
    "            json.dump(word,f)\n",
    "    elif menu == '2':\n",
    "        n = 1\n",
    "        quiz = random.choice(word)\n",
    "        input('시작!(enter)')\n",
    "        start = time.time()\n",
    "        while n <= 5:\n",
    "            print(f'{n}번')\n",
    "            print(quiz)\n",
    "            x = input()\n",
    "            if quiz == x:\n",
    "                print('통과!')\n",
    "                n += 1\n",
    "                quiz = random.choice(word)\n",
    "            else:\n",
    "                print('오타! 다시 도전!')\n",
    "        print('5문제 다 맞췄습니다.')\n",
    "        end = time.time()\n",
    "        print(f'걸린시간:{end-start:.0f}초')\n",
    "        name = input('사용자명을 입력하세요 >>>')\n",
    "        while name in rank:\n",
    "            name = input('사용자명이 중복됩니다. 다른 이름을 입력하세요 >>>')\n",
    "        rank[name]=end-start\n",
    "        print(rank)\n",
    "    elif menu == '3':\n",
    "        ranklist = sorted(rank.items(),key=lambda x:x[1])\n",
    "        for index,item in enumerate(ranklist):\n",
    "            print(f'{index}등 {item[0]} {item[1]:.2f}')\n",
    "    elif menu == '4':\n",
    "        print('프로그램을 종료합니다.')\n",
    "        with open('rank.json','w') as f:\n",
    "            json.dump(rank,f)\n",
    "        break\n",
    "    else:\n",
    "        print('메뉴선택을 잘못하셨습니다.')"
   ]
  },
  {
   "cell_type": "raw",
   "id": "11de23e1-464d-43c4-b12a-2a90633c93e4",
   "metadata": {},
   "source": [
    "프로그램 목적, 기능 구현, 완성\n",
    "\n",
    "1. 만들고자 하는 프로그램 설명(crud)\n",
    "2. 기능별 정의 - 어떤 내용이 구현되어야 하는지\n",
    "3. 작성된 내용 및 소스는 트렐로에 오늘자 과제 올리는 곳에 올리기\n",
    "\n"
   ]
  },
  {
   "cell_type": "code",
   "execution_count": 51,
   "id": "fbb4d18a-2571-44af-907d-ed407089091c",
   "metadata": {},
   "outputs": [
    {
     "ename": "IndentationError",
     "evalue": "unexpected indent (Temp/ipykernel_3360/3898934774.py, line 8)",
     "output_type": "error",
     "traceback": [
      "\u001b[1;36m  File \u001b[1;32m\"C:\\Users\\Admin\\AppData\\Local\\Temp/ipykernel_3360/3898934774.py\"\u001b[1;36m, line \u001b[1;32m8\u001b[0m\n\u001b[1;33m    while coin < 500:\u001b[0m\n\u001b[1;37m    ^\u001b[0m\n\u001b[1;31mIndentationError\u001b[0m\u001b[1;31m:\u001b[0m unexpected indent\n"
     ]
    }
   ],
   "source": [
    "front = \"어서오세요 한국노래방입니다.\"\n",
    "sing = [\"2곡: 500원\", \"4곡:1000원\"]\n",
    "coin = 0\n",
    "\n",
    "print(front)\n",
    "sing = input('''\n",
    "2곡: 500원, 4곡:1000원 >>> ''')\n",
    "    while coin < 500:\n",
    "        input = int(coin())\n",
    "        print(\"돈이 맞지 않습니다. 다시 확인해주세요\")\n",
    "        if coin == 500\n",
    "            print = (\"500원을 넣으셨습니다. +2곡\")\n",
    "        elif coin == 1000:\n",
    "        input = int(coin())\n",
    "        print = (\"1000원을 넣으셨습니다. +4곡\")\n",
    "    else:\n",
    "        print(\"돈이 맞지 않습니다. 다시 확인해주세요\")\n",
    "        break"
   ]
  },
  {
   "cell_type": "code",
   "execution_count": null,
   "id": "1a500f72-0c6e-4e01-9471-527546ec7c00",
   "metadata": {},
   "outputs": [],
   "source": []
  },
  {
   "cell_type": "code",
   "execution_count": null,
   "id": "3f4bef1c-6070-4846-b66b-feee8b6259af",
   "metadata": {},
   "outputs": [],
   "source": []
  }
 ],
 "metadata": {
  "kernelspec": {
   "display_name": "Python 3 (ipykernel)",
   "language": "python",
   "name": "python3"
  },
  "language_info": {
   "codemirror_mode": {
    "name": "ipython",
    "version": 3
   },
   "file_extension": ".py",
   "mimetype": "text/x-python",
   "name": "python",
   "nbconvert_exporter": "python",
   "pygments_lexer": "ipython3",
   "version": "3.9.7"
  }
 },
 "nbformat": 4,
 "nbformat_minor": 5
}
