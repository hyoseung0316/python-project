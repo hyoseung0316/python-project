{
 "cells": [
  {
   "cell_type": "code",
   "execution_count": 1,
   "id": "2ef49a7d-cb99-4b7c-b988-88212b99668f",
   "metadata": {},
   "outputs": [
    {
     "ename": "NameError",
     "evalue": "name 'a' is not defined",
     "output_type": "error",
     "traceback": [
      "\u001b[1;31m---------------------------------------------------------------------------\u001b[0m",
      "\u001b[1;31mNameError\u001b[0m                                 Traceback (most recent call last)",
      "\u001b[1;32m~\\AppData\\Local\\Temp/ipykernel_1232/593670237.py\u001b[0m in \u001b[0;36m<module>\u001b[1;34m\u001b[0m\n\u001b[1;32m----> 1\u001b[1;33m \u001b[0mfloat\u001b[0m\u001b[1;33m(\u001b[0m\u001b[0ma\u001b[0m\u001b[1;33m)\u001b[0m\u001b[1;33m\u001b[0m\u001b[1;33m\u001b[0m\u001b[0m\n\u001b[0m",
      "\u001b[1;31mNameError\u001b[0m: name 'a' is not defined"
     ]
    }
   ],
   "source": [
    "float(a)"
   ]
  },
  {
   "cell_type": "code",
   "execution_count": 2,
   "id": "f41b94ab-6ede-4284-95ba-7fb7f7e780dc",
   "metadata": {},
   "outputs": [
    {
     "ename": "NameError",
     "evalue": "name 'a' is not defined",
     "output_type": "error",
     "traceback": [
      "\u001b[1;31m---------------------------------------------------------------------------\u001b[0m",
      "\u001b[1;31mNameError\u001b[0m                                 Traceback (most recent call last)",
      "\u001b[1;32m~\\AppData\\Local\\Temp/ipykernel_1232/4079649108.py\u001b[0m in \u001b[0;36m<module>\u001b[1;34m\u001b[0m\n\u001b[1;32m----> 1\u001b[1;33m \u001b[0mtype\u001b[0m\u001b[1;33m(\u001b[0m\u001b[0ma\u001b[0m\u001b[1;33m)\u001b[0m\u001b[1;33m\u001b[0m\u001b[1;33m\u001b[0m\u001b[0m\n\u001b[0m",
      "\u001b[1;31mNameError\u001b[0m: name 'a' is not defined"
     ]
    }
   ],
   "source": [
    "type(a)"
   ]
  },
  {
   "cell_type": "code",
   "execution_count": 3,
   "id": "3ea3886a-d36d-49aa-91de-33fa1b2f3add",
   "metadata": {},
   "outputs": [
    {
     "name": "stdin",
     "output_type": "stream",
     "text": [
      "숫자를 입력하세요 가나다\n"
     ]
    },
    {
     "data": {
      "text/plain": [
       "str"
      ]
     },
     "execution_count": 3,
     "metadata": {},
     "output_type": "execute_result"
    }
   ],
   "source": [
    "b = input('숫자를 입력하세요')\n",
    "type(b)"
   ]
  },
  {
   "cell_type": "code",
   "execution_count": 5,
   "id": "e724585c-851b-400d-bb62-435298441176",
   "metadata": {},
   "outputs": [
    {
     "ename": "ValueError",
     "evalue": "invalid literal for int() with base 10: '가나다'",
     "output_type": "error",
     "traceback": [
      "\u001b[1;31m---------------------------------------------------------------------------\u001b[0m",
      "\u001b[1;31mValueError\u001b[0m                                Traceback (most recent call last)",
      "\u001b[1;32m~\\AppData\\Local\\Temp/ipykernel_1232/3956108814.py\u001b[0m in \u001b[0;36m<module>\u001b[1;34m\u001b[0m\n\u001b[1;32m----> 1\u001b[1;33m \u001b[0mint\u001b[0m\u001b[1;33m(\u001b[0m\u001b[0mb\u001b[0m\u001b[1;33m)\u001b[0m\u001b[1;33m\u001b[0m\u001b[1;33m\u001b[0m\u001b[0m\n\u001b[0m",
      "\u001b[1;31mValueError\u001b[0m: invalid literal for int() with base 10: '가나다'"
     ]
    }
   ],
   "source": [
    "int(b)"
   ]
  },
  {
   "cell_type": "code",
   "execution_count": 6,
   "id": "f1cd018a-17d1-479f-88b1-65b3b5579ecf",
   "metadata": {},
   "outputs": [
    {
     "data": {
      "text/plain": [
       "False"
      ]
     },
     "execution_count": 6,
     "metadata": {},
     "output_type": "execute_result"
    }
   ],
   "source": [
    "b.isdecimal()"
   ]
  },
  {
   "cell_type": "code",
   "execution_count": 7,
   "id": "8d568fef-2e5c-4986-aa2a-3356870e2a39",
   "metadata": {},
   "outputs": [
    {
     "name": "stdout",
     "output_type": "stream",
     "text": [
      "문자일때 할일\n"
     ]
    }
   ],
   "source": [
    "if b.isdecimal():\n",
    "    print('참일때 해야될일')\n",
    "elif b.isalpha():\n",
    "    print('문자일때 할일')\n",
    "else:\n",
    "    print('그외 나머지')"
   ]
  },
  {
   "cell_type": "code",
   "execution_count": 9,
   "id": "c0be9c46-43b7-442d-ad8b-ba0ed20a0c8f",
   "metadata": {
    "collapsed": true,
    "jupyter": {
     "outputs_hidden": true
    },
    "tags": []
   },
   "outputs": [
    {
     "ename": "SyntaxError",
     "evalue": "invalid syntax (Temp/ipykernel_1232/301250955.py, line 1)",
     "output_type": "error",
     "traceback": [
      "\u001b[1;36m  File \u001b[1;32m\"C:\\Users\\Admin\\AppData\\Local\\Temp/ipykernel_1232/301250955.py\"\u001b[1;36m, line \u001b[1;32m1\u001b[0m\n\u001b[1;33m    박스당 과일을 넣어서 몇박스 몇개인지를 출력해주는 프로그램 작성\u001b[0m\n\u001b[1;37m        ^\u001b[0m\n\u001b[1;31mSyntaxError\u001b[0m\u001b[1;31m:\u001b[0m invalid syntax\n"
     ]
    }
   ],
   "source": [
    "박스당 과일을 넣어서 몇박스 몇개인지를 출력해주는 프로그램 작성\n",
    "- 조건체크 : 입력값이 숫자인지 여부 체크해서 진행\n",
    "- 입력 받을 값 : 박스당 과일수, 전체 과일수\n",
    "- 출력 내용 : X박스 X개"
   ]
  },
  {
   "cell_type": "code",
   "execution_count": 10,
   "id": "44095b06-4209-471f-b9b8-9fa555fff191",
   "metadata": {
    "tags": []
   },
   "outputs": [
    {
     "name": "stdin",
     "output_type": "stream",
     "text": [
      "박스당 과일의 갯수 >>> 6\n",
      "전체 과일수 >>> 324\n"
     ]
    },
    {
     "name": "stdout",
     "output_type": "stream",
     "text": [
      "54 박스  0 개\n"
     ]
    }
   ],
   "source": [
    "a1 = input('박스당 과일의 갯수 >>>')\n",
    "a2 = input('전체 과일수 >>>')\n",
    "if a1.isdecimal() and a2.isdecimal():\n",
    "    a1,a2 = int(a1),int(a2)\n",
    "    box = a2//a1\n",
    "    count = a2%a1\n",
    "    print(box,'박스 ',count,'개')\n",
    "else:\n",
    "    print('입력값이 잘못되었습니다.')"
   ]
  },
  {
   "cell_type": "code",
   "execution_count": 12,
   "id": "455009bf-703a-4117-a772-f59630de2635",
   "metadata": {},
   "outputs": [],
   "source": [
    "a=divmod(5,2)"
   ]
  },
  {
   "cell_type": "code",
   "execution_count": 13,
   "id": "b647987a-6b9f-4d7a-bee2-f258cb340b00",
   "metadata": {},
   "outputs": [
    {
     "data": {
      "text/plain": [
       "(2, 1)"
      ]
     },
     "execution_count": 13,
     "metadata": {},
     "output_type": "execute_result"
    }
   ],
   "source": [
    "a"
   ]
  },
  {
   "cell_type": "code",
   "execution_count": 14,
   "id": "9bc8abdd-19ce-4f75-9b3a-e03660dcd200",
   "metadata": {},
   "outputs": [
    {
     "data": {
      "text/plain": [
       "2"
      ]
     },
     "execution_count": 14,
     "metadata": {},
     "output_type": "execute_result"
    }
   ],
   "source": [
    "a[0]"
   ]
  },
  {
   "cell_type": "code",
   "execution_count": 15,
   "id": "7590b31f-8a47-437f-bf2f-44f597a6c4d7",
   "metadata": {},
   "outputs": [
    {
     "data": {
      "text/plain": [
       "342391"
      ]
     },
     "execution_count": 15,
     "metadata": {},
     "output_type": "execute_result"
    }
   ],
   "source": [
    "0o1234567"
   ]
  },
  {
   "cell_type": "code",
   "execution_count": 16,
   "id": "8eb31e0d-56c1-4084-804a-3653a967bbf8",
   "metadata": {},
   "outputs": [
    {
     "data": {
      "text/plain": [
       "16777215"
      ]
     },
     "execution_count": 16,
     "metadata": {},
     "output_type": "execute_result"
    }
   ],
   "source": [
    "0xffffff"
   ]
  },
  {
   "cell_type": "code",
   "execution_count": 17,
   "id": "eb16d5c1-cc26-44b2-b7d1-d94f912d0901",
   "metadata": {},
   "outputs": [],
   "source": [
    "up7 = 'aaaa'"
   ]
  },
  {
   "cell_type": "code",
   "execution_count": 18,
   "id": "8e5ec7ed-c08d-4477-903f-d5312b9736c5",
   "metadata": {},
   "outputs": [
    {
     "data": {
      "text/plain": [
       "'aaaa'"
      ]
     },
     "execution_count": 18,
     "metadata": {},
     "output_type": "execute_result"
    }
   ],
   "source": [
    "up7"
   ]
  },
  {
   "cell_type": "code",
   "execution_count": 19,
   "id": "7c2feacc-c5c3-419c-a494-9a3d7246eb7b",
   "metadata": {},
   "outputs": [],
   "source": [
    "del up7"
   ]
  },
  {
   "cell_type": "code",
   "execution_count": 20,
   "id": "d3e9f23f-4105-4b0c-9ae5-09d2101d2607",
   "metadata": {},
   "outputs": [
    {
     "ename": "NameError",
     "evalue": "name 'up7' is not defined",
     "output_type": "error",
     "traceback": [
      "\u001b[1;31m---------------------------------------------------------------------------\u001b[0m",
      "\u001b[1;31mNameError\u001b[0m                                 Traceback (most recent call last)",
      "\u001b[1;32m~\\AppData\\Local\\Temp/ipykernel_1232/1661159455.py\u001b[0m in \u001b[0;36m<module>\u001b[1;34m\u001b[0m\n\u001b[1;32m----> 1\u001b[1;33m \u001b[0mup7\u001b[0m\u001b[1;33m\u001b[0m\u001b[1;33m\u001b[0m\u001b[0m\n\u001b[0m",
      "\u001b[1;31mNameError\u001b[0m: name 'up7' is not defined"
     ]
    }
   ],
   "source": [
    "up7"
   ]
  },
  {
   "cell_type": "code",
   "execution_count": 22,
   "id": "0c8dddf0-50c7-4ff4-b0e3-e1523cff991a",
   "metadata": {},
   "outputs": [],
   "source": [
    "a = [1,2,3,4,5]"
   ]
  },
  {
   "cell_type": "code",
   "execution_count": 23,
   "id": "44764464-0fa0-4901-9357-66d6f6fe0831",
   "metadata": {},
   "outputs": [
    {
     "data": {
      "text/plain": [
       "list"
      ]
     },
     "execution_count": 23,
     "metadata": {},
     "output_type": "execute_result"
    }
   ],
   "source": [
    "type(a)"
   ]
  },
  {
   "cell_type": "code",
   "execution_count": 25,
   "id": "4cf9dbaf-e063-439b-973a-fe543d7f1617",
   "metadata": {},
   "outputs": [
    {
     "data": {
      "text/plain": [
       "5"
      ]
     },
     "execution_count": 25,
     "metadata": {},
     "output_type": "execute_result"
    }
   ],
   "source": [
    "a[4]"
   ]
  },
  {
   "cell_type": "code",
   "execution_count": 26,
   "id": "d2a8c533-dd01-43f5-898f-795fd62354b8",
   "metadata": {},
   "outputs": [],
   "source": [
    "del a[1]"
   ]
  },
  {
   "cell_type": "code",
   "execution_count": 27,
   "id": "09030722-66a5-47fc-8106-5e08bcee9cbe",
   "metadata": {},
   "outputs": [
    {
     "data": {
      "text/plain": [
       "[1, 3, 4, 5]"
      ]
     },
     "execution_count": 27,
     "metadata": {},
     "output_type": "execute_result"
    }
   ],
   "source": [
    "a"
   ]
  },
  {
   "cell_type": "code",
   "execution_count": 28,
   "id": "8ec3ba05-2427-447a-8f0a-c4f77fca2694",
   "metadata": {},
   "outputs": [
    {
     "name": "stdout",
     "output_type": "stream",
     "text": [
      "ggggg\n"
     ]
    }
   ],
   "source": [
    "print('ggggg')"
   ]
  },
  {
   "cell_type": "code",
   "execution_count": 29,
   "id": "f3470355-44f0-4dd0-a3bf-c8f9628471a6",
   "metadata": {},
   "outputs": [
    {
     "data": {
      "text/plain": [
       "['안녕', '하세요']"
      ]
     },
     "execution_count": 29,
     "metadata": {},
     "output_type": "execute_result"
    }
   ],
   "source": [
    "'안녕 하세요'.split()"
   ]
  },
  {
   "cell_type": "code",
   "execution_count": 30,
   "id": "d92ba203-4caa-44bc-bf5a-996c75964670",
   "metadata": {},
   "outputs": [
    {
     "data": {
      "text/plain": [
       "['안녕', '하세요']"
      ]
     },
     "execution_count": 30,
     "metadata": {},
     "output_type": "execute_result"
    }
   ],
   "source": [
    "a = '안녕 하세요'\n",
    "a.split()"
   ]
  },
  {
   "cell_type": "code",
   "execution_count": 31,
   "id": "80e265e7-e6b1-4352-b68b-b630bfef60b5",
   "metadata": {},
   "outputs": [
    {
     "name": "stdin",
     "output_type": "stream",
     "text": [
      " 하잉 히히히 커피가 너무 먹고 싶어요\n"
     ]
    },
    {
     "data": {
      "text/plain": [
       "['하잉', '히히히', '커피가', '너무', '먹고', '싶어요']"
      ]
     },
     "execution_count": 31,
     "metadata": {},
     "output_type": "execute_result"
    }
   ],
   "source": [
    "input().split()"
   ]
  },
  {
   "cell_type": "code",
   "execution_count": 34,
   "id": "99e80e11-40b5-42b0-b5b6-9fdaf3ba37b8",
   "metadata": {},
   "outputs": [
    {
     "name": "stdout",
     "output_type": "stream",
     "text": [
      "a,b,cddd\n"
     ]
    }
   ],
   "source": [
    "print('a','b','c',sep=',',end='')\n",
    "print('ddd')"
   ]
  },
  {
   "cell_type": "code",
   "execution_count": 36,
   "id": "33c2cf35-0356-4f0e-b5b9-13997c72fdb1",
   "metadata": {},
   "outputs": [
    {
     "data": {
      "text/plain": [
       "(True, False)"
      ]
     },
     "execution_count": 36,
     "metadata": {},
     "output_type": "execute_result"
    }
   ],
   "source": [
    "True,False"
   ]
  },
  {
   "cell_type": "code",
   "execution_count": 37,
   "id": "c18c4fce-3cb5-4125-9566-186a555545aa",
   "metadata": {},
   "outputs": [
    {
     "data": {
      "text/plain": [
       "True"
      ]
     },
     "execution_count": 37,
     "metadata": {},
     "output_type": "execute_result"
    }
   ],
   "source": [
    "a = 1\n",
    "b = 1.0\n",
    "a == b"
   ]
  },
  {
   "cell_type": "code",
   "execution_count": 40,
   "id": "8eda37ef-3496-4a60-ab01-3db34e59cf6d",
   "metadata": {},
   "outputs": [
    {
     "data": {
      "text/plain": [
       "True"
      ]
     },
     "execution_count": 40,
     "metadata": {},
     "output_type": "execute_result"
    }
   ],
   "source": [
    "a is b"
   ]
  },
  {
   "cell_type": "code",
   "execution_count": 44,
   "id": "6c6ea019-f4af-4ffa-8d5e-fb4be5cf44da",
   "metadata": {},
   "outputs": [
    {
     "data": {
      "text/plain": [
       "False"
      ]
     },
     "execution_count": 44,
     "metadata": {},
     "output_type": "execute_result"
    }
   ],
   "source": [
    "a != b"
   ]
  },
  {
   "cell_type": "code",
   "execution_count": 46,
   "id": "95e17541-0f2c-4a0c-8b81-a8d30d888977",
   "metadata": {},
   "outputs": [
    {
     "data": {
      "text/plain": [
       "'교실에서 \"안녕!\"이라고 인사하기'"
      ]
     },
     "execution_count": 46,
     "metadata": {},
     "output_type": "execute_result"
    }
   ],
   "source": [
    "'교실에서 \"안녕!\"이라고 인사하기'"
   ]
  },
  {
   "cell_type": "code",
   "execution_count": 47,
   "id": "c4477a54-8d90-440f-999e-9caae3997822",
   "metadata": {},
   "outputs": [
    {
     "data": {
      "text/plain": [
       "'아\\n니\\n'"
      ]
     },
     "execution_count": 47,
     "metadata": {},
     "output_type": "execute_result"
    }
   ],
   "source": [
    "'아\\n니\\n'"
   ]
  },
  {
   "cell_type": "code",
   "execution_count": 56,
   "id": "fff1b295-be0b-4655-a7ba-754edc858962",
   "metadata": {},
   "outputs": [
    {
     "data": {
      "text/plain": [
       "'i eat 321212.12  apple. total 6'"
      ]
     },
     "execution_count": 56,
     "metadata": {},
     "output_type": "execute_result"
    }
   ],
   "source": [
    "value = 321212.1234567\n",
    "'i eat {:^10.2f} apple. total {}'.format(value,6)"
   ]
  },
  {
   "cell_type": "code",
   "execution_count": 57,
   "id": "6885eaf6-41ee-47fa-9c18-6a0f1bb37212",
   "metadata": {},
   "outputs": [
    {
     "data": {
      "text/plain": [
       "'i eat 321,212.12 apple.'"
      ]
     },
     "execution_count": 57,
     "metadata": {},
     "output_type": "execute_result"
    }
   ],
   "source": [
    "f'i eat {value:^10,.2f} apple.'"
   ]
  },
  {
   "cell_type": "code",
   "execution_count": 60,
   "id": "ab8861cd-e0f9-446f-942a-88b7c2e865b6",
   "metadata": {},
   "outputs": [],
   "source": [
    "a = \"Life is too short\""
   ]
  },
  {
   "cell_type": "code",
   "execution_count": 61,
   "id": "7fc8ca9a-c9b3-448a-b101-e44478c74e36",
   "metadata": {},
   "outputs": [
    {
     "data": {
      "text/plain": [
       "17"
      ]
     },
     "execution_count": 61,
     "metadata": {},
     "output_type": "execute_result"
    }
   ],
   "source": [
    "len(a)"
   ]
  },
  {
   "cell_type": "code",
   "execution_count": 62,
   "id": "7ec01aee-c573-4610-b1ae-c9e0714b7150",
   "metadata": {},
   "outputs": [],
   "source": [
    "a = \"Life is too short, You need Python\""
   ]
  },
  {
   "cell_type": "code",
   "execution_count": 63,
   "id": "212dfc01-4bf1-4ed1-93c0-335a301fb9d1",
   "metadata": {},
   "outputs": [
    {
     "data": {
      "text/plain": [
       "'s'"
      ]
     },
     "execution_count": 63,
     "metadata": {},
     "output_type": "execute_result"
    }
   ],
   "source": [
    "a[12]"
   ]
  },
  {
   "cell_type": "code",
   "execution_count": 64,
   "id": "8275c8e2-66f4-4723-8c45-6d6ab99fd1cf",
   "metadata": {},
   "outputs": [
    {
     "data": {
      "text/plain": [
       "'n'"
      ]
     },
     "execution_count": 64,
     "metadata": {},
     "output_type": "execute_result"
    }
   ],
   "source": [
    "a[-1]"
   ]
  },
  {
   "cell_type": "code",
   "execution_count": 65,
   "id": "2d25bf68-4d1a-46d4-a424-c180bdbc0e52",
   "metadata": {},
   "outputs": [
    {
     "data": {
      "text/plain": [
       "'P'"
      ]
     },
     "execution_count": 65,
     "metadata": {},
     "output_type": "execute_result"
    }
   ],
   "source": [
    "a[-6]"
   ]
  },
  {
   "cell_type": "code",
   "execution_count": 66,
   "id": "c1b87093-33c2-4192-ac9f-2213b9f3990c",
   "metadata": {},
   "outputs": [
    {
     "data": {
      "text/plain": [
       "'Life'"
      ]
     },
     "execution_count": 66,
     "metadata": {},
     "output_type": "execute_result"
    }
   ],
   "source": [
    "a[0:4]"
   ]
  },
  {
   "cell_type": "code",
   "execution_count": 67,
   "id": "135df2b3-8bd3-4d67-820b-b18648be1a65",
   "metadata": {},
   "outputs": [
    {
     "data": {
      "text/plain": [
       "'hon'"
      ]
     },
     "execution_count": 67,
     "metadata": {},
     "output_type": "execute_result"
    }
   ],
   "source": [
    "a[-3:]"
   ]
  },
  {
   "cell_type": "code",
   "execution_count": 68,
   "id": "bb70f5ad-a4da-4342-857d-23f38f59dffd",
   "metadata": {},
   "outputs": [
    {
     "name": "stdin",
     "output_type": "stream",
     "text": [
      "이메일을 입력하세요 apple.co.kr\n"
     ]
    },
    {
     "data": {
      "text/plain": [
       "0"
      ]
     },
     "execution_count": 68,
     "metadata": {},
     "output_type": "execute_result"
    }
   ],
   "source": [
    "email = input('이메일을 입력하세요')\n",
    "count = email.count('@')\n",
    "count"
   ]
  },
  {
   "cell_type": "code",
   "execution_count": null,
   "id": "b9cadec6-ff63-469e-a999-e209b908a454",
   "metadata": {},
   "outputs": [],
   "source": []
  }
 ],
 "metadata": {
  "kernelspec": {
   "display_name": "Python 3 (ipykernel)",
   "language": "python",
   "name": "python3"
  },
  "language_info": {
   "codemirror_mode": {
    "name": "ipython",
    "version": 3
   },
   "file_extension": ".py",
   "mimetype": "text/x-python",
   "name": "python",
   "nbconvert_exporter": "python",
   "pygments_lexer": "ipython3",
   "version": "3.9.7"
  }
 },
 "nbformat": 4,
 "nbformat_minor": 5
}
